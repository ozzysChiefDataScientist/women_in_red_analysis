{
 "cells": [
  {
   "cell_type": "code",
   "execution_count": 1,
   "metadata": {},
   "outputs": [],
   "source": [
    "from bs4 import BeautifulSoup\n",
    "import boto3\n",
    "import config as cfg\n",
    "import datetime\n",
    "import io\n",
    "import gender_guesser.detector as gender\n",
    "from nameparser import HumanName\n",
    "import numpy as np\n",
    "import pandas as pd\n",
    "import pyarrow.parquet as pq\n",
    "import re\n",
    "import spacy\n",
    "import time\n",
    "import yaml"
   ]
  },
  {
   "cell_type": "markdown",
   "metadata": {},
   "source": [
    "## Objective:\n",
    "* Implement a version 1 approach to infer the gender of a person featured in a Wikipedia article using the person's name.\n",
    "  * Limitations: The Python package leveraged uses first names to infer gender, but of course we should not make assumptions about gender based on first names. This method is only intended as an initial, fast attempt to gather this data. In a future release, I will extract data on pronouns from Wikipedia articles and use that information to infer gender (assuming the Wikipedia page authors accurately captured the subjects' pronouns)."
   ]
  },
  {
   "cell_type": "code",
   "execution_count": 2,
   "metadata": {},
   "outputs": [],
   "source": [
    "%run \"../libraries/aws_utils.ipynb\""
   ]
  },
  {
   "cell_type": "code",
   "execution_count": 3,
   "metadata": {},
   "outputs": [],
   "source": [
    "%run \"../libraries/general_utils.ipynb\""
   ]
  },
  {
   "cell_type": "markdown",
   "metadata": {},
   "source": [
    "## Setup"
   ]
  },
  {
   "cell_type": "code",
   "execution_count": 4,
   "metadata": {},
   "outputs": [],
   "source": [
    "with open('config.yml', 'r') as file:\n",
    "   config_files = yaml.safe_load(file)"
   ]
  },
  {
   "cell_type": "code",
   "execution_count": 5,
   "metadata": {},
   "outputs": [],
   "source": [
    "nlp = spacy.load(\"en_core_web_sm\")"
   ]
  },
  {
   "cell_type": "code",
   "execution_count": 6,
   "metadata": {},
   "outputs": [],
   "source": [
    "s3_reader = boto3.resource('s3',\n",
    "                    region_name='us-east-1',\n",
    "                    aws_access_key_id=cfg.aws_reader['accessCode'],\n",
    "                    aws_secret_access_key=cfg.aws_reader['secretCode'])"
   ]
  },
  {
   "cell_type": "code",
   "execution_count": 7,
   "metadata": {},
   "outputs": [],
   "source": [
    "afd_metadata = read_parquet_file(s3_reader, \n",
    "                                  config_files['INTEREDIARY_OUTPUT_BUCKET'], \n",
    "                      config_files['AFD_NAMES_AND_DISCUSSION'])\n",
    "test_primary_key(afd_metadata, ['file_name','entity'])"
   ]
  },
  {
   "cell_type": "code",
   "execution_count": 8,
   "metadata": {},
   "outputs": [],
   "source": [
    "people_to_process = afd_metadata[(afd_metadata['found_person']) & afd_metadata['num_entities']==1] # filter to people\n",
    "initial_people_count = people_to_process.shape[0]"
   ]
  },
  {
   "cell_type": "code",
   "execution_count": 9,
   "metadata": {},
   "outputs": [
    {
     "data": {
      "text/html": [
       "<div>\n",
       "<style scoped>\n",
       "    .dataframe tbody tr th:only-of-type {\n",
       "        vertical-align: middle;\n",
       "    }\n",
       "\n",
       "    .dataframe tbody tr th {\n",
       "        vertical-align: top;\n",
       "    }\n",
       "\n",
       "    .dataframe thead th {\n",
       "        text-align: right;\n",
       "    }\n",
       "</style>\n",
       "<table border=\"1\" class=\"dataframe\">\n",
       "  <thead>\n",
       "    <tr style=\"text-align: right;\">\n",
       "      <th></th>\n",
       "      <th>entity</th>\n",
       "      <th>found_person</th>\n",
       "      <th>num_entities</th>\n",
       "      <th>is_multiple_entity_types</th>\n",
       "      <th>file_name</th>\n",
       "      <th>discussion</th>\n",
       "      <th>afd_result</th>\n",
       "    </tr>\n",
       "  </thead>\n",
       "  <tbody>\n",
       "    <tr>\n",
       "      <th>0</th>\n",
       "      <td>Margaret Louise Skourlis</td>\n",
       "      <td>True</td>\n",
       "      <td>1</td>\n",
       "      <td>False</td>\n",
       "      <td>daily_afd_log/2023-01-01/2022_December_21.txt</td>\n",
       "      <td>&lt;div class=\"boilerplate afd vfd xfd-closed arc...</td>\n",
       "      <td>delete</td>\n",
       "    </tr>\n",
       "    <tr>\n",
       "      <th>2</th>\n",
       "      <td>Michael D. Mehta</td>\n",
       "      <td>True</td>\n",
       "      <td>1</td>\n",
       "      <td>False</td>\n",
       "      <td>daily_afd_log/2023-01-01/2022_December_21.txt</td>\n",
       "      <td>&lt;div class=\"boilerplate afd vfd xfd-closed arc...</td>\n",
       "      <td>delete</td>\n",
       "    </tr>\n",
       "    <tr>\n",
       "      <th>6</th>\n",
       "      <td>Sangsadia Nirbachan 1991</td>\n",
       "      <td>True</td>\n",
       "      <td>1</td>\n",
       "      <td>False</td>\n",
       "      <td>daily_afd_log/2023-01-01/2022_December_21.txt</td>\n",
       "      <td>&lt;div class=\"boilerplate afd vfd xfd-closed arc...</td>\n",
       "      <td>merge</td>\n",
       "    </tr>\n",
       "  </tbody>\n",
       "</table>\n",
       "</div>"
      ],
      "text/plain": [
       "                     entity  found_person  num_entities  \\\n",
       "0  Margaret Louise Skourlis          True             1   \n",
       "2          Michael D. Mehta          True             1   \n",
       "6  Sangsadia Nirbachan 1991          True             1   \n",
       "\n",
       "   is_multiple_entity_types                                      file_name  \\\n",
       "0                     False  daily_afd_log/2023-01-01/2022_December_21.txt   \n",
       "2                     False  daily_afd_log/2023-01-01/2022_December_21.txt   \n",
       "6                     False  daily_afd_log/2023-01-01/2022_December_21.txt   \n",
       "\n",
       "                                          discussion afd_result  \n",
       "0  <div class=\"boilerplate afd vfd xfd-closed arc...     delete  \n",
       "2  <div class=\"boilerplate afd vfd xfd-closed arc...     delete  \n",
       "6  <div class=\"boilerplate afd vfd xfd-closed arc...      merge  "
      ]
     },
     "execution_count": 9,
     "metadata": {},
     "output_type": "execute_result"
    }
   ],
   "source": [
    "people_to_process[0:3]"
   ]
  },
  {
   "cell_type": "markdown",
   "metadata": {},
   "source": [
    "## Extract first and last name"
   ]
  },
  {
   "cell_type": "code",
   "execution_count": 10,
   "metadata": {},
   "outputs": [],
   "source": [
    "def extract_first_and_last_name(name_string):\n",
    "  '''\n",
    "  Detects the first and last names of a given name string.\n",
    "\n",
    "  Args:\n",
    "      name_string (str): A string containing a full name string.\n",
    "\n",
    "  Returns:\n",
    "      str or None: None if the name is not recognized as a person.\n",
    "\n",
    "  Example:\n",
    "      >>> extract_first_and_last_name(\"Jane Doe\")\n",
    "      'jane' 'doe'\n",
    "  '''\n",
    "  doc = nlp(name_string)\n",
    "  if any(entity.label_==\"PERSON\" for entity in doc.ents):\n",
    "    name = HumanName(str(doc.ents[0]))\n",
    "    return name.first, name.last\n",
    "  else:\n",
    "    return None"
   ]
  },
  {
   "cell_type": "code",
   "execution_count": 11,
   "metadata": {},
   "outputs": [
    {
     "name": "stderr",
     "output_type": "stream",
     "text": [
      "/Library/Frameworks/Python.framework/Versions/3.7/lib/python3.7/site-packages/pandas/core/frame.py:3641: SettingWithCopyWarning: \n",
      "A value is trying to be set on a copy of a slice from a DataFrame.\n",
      "Try using .loc[row_indexer,col_indexer] = value instead\n",
      "\n",
      "See the caveats in the documentation: https://pandas.pydata.org/pandas-docs/stable/user_guide/indexing.html#returning-a-view-versus-a-copy\n",
      "  self[k1] = value[k2]\n"
     ]
    }
   ],
   "source": [
    "people_to_process[['first_name', 'last_name']] = people_to_process['entity'].apply(lambda x: \n",
    "                                              pd.Series( extract_first_and_last_name(x), \n",
    "                                                        index=['first_name', 'last_name']) )"
   ]
  },
  {
   "cell_type": "code",
   "execution_count": 12,
   "metadata": {},
   "outputs": [
    {
     "data": {
      "text/html": [
       "<div>\n",
       "<style scoped>\n",
       "    .dataframe tbody tr th:only-of-type {\n",
       "        vertical-align: middle;\n",
       "    }\n",
       "\n",
       "    .dataframe tbody tr th {\n",
       "        vertical-align: top;\n",
       "    }\n",
       "\n",
       "    .dataframe thead th {\n",
       "        text-align: right;\n",
       "    }\n",
       "</style>\n",
       "<table border=\"1\" class=\"dataframe\">\n",
       "  <thead>\n",
       "    <tr style=\"text-align: right;\">\n",
       "      <th></th>\n",
       "      <th>entity</th>\n",
       "      <th>found_person</th>\n",
       "      <th>num_entities</th>\n",
       "      <th>is_multiple_entity_types</th>\n",
       "      <th>file_name</th>\n",
       "      <th>discussion</th>\n",
       "      <th>afd_result</th>\n",
       "      <th>first_name</th>\n",
       "      <th>last_name</th>\n",
       "    </tr>\n",
       "  </thead>\n",
       "  <tbody>\n",
       "    <tr>\n",
       "      <th>0</th>\n",
       "      <td>Margaret Louise Skourlis</td>\n",
       "      <td>True</td>\n",
       "      <td>1</td>\n",
       "      <td>False</td>\n",
       "      <td>daily_afd_log/2023-01-01/2022_December_21.txt</td>\n",
       "      <td>&lt;div class=\"boilerplate afd vfd xfd-closed arc...</td>\n",
       "      <td>delete</td>\n",
       "      <td>Margaret</td>\n",
       "      <td>Skourlis</td>\n",
       "    </tr>\n",
       "    <tr>\n",
       "      <th>2</th>\n",
       "      <td>Michael D. Mehta</td>\n",
       "      <td>True</td>\n",
       "      <td>1</td>\n",
       "      <td>False</td>\n",
       "      <td>daily_afd_log/2023-01-01/2022_December_21.txt</td>\n",
       "      <td>&lt;div class=\"boilerplate afd vfd xfd-closed arc...</td>\n",
       "      <td>delete</td>\n",
       "      <td>Michael</td>\n",
       "      <td>Mehta</td>\n",
       "    </tr>\n",
       "    <tr>\n",
       "      <th>6</th>\n",
       "      <td>Sangsadia Nirbachan 1991</td>\n",
       "      <td>True</td>\n",
       "      <td>1</td>\n",
       "      <td>False</td>\n",
       "      <td>daily_afd_log/2023-01-01/2022_December_21.txt</td>\n",
       "      <td>&lt;div class=\"boilerplate afd vfd xfd-closed arc...</td>\n",
       "      <td>merge</td>\n",
       "      <td>Sangsadia</td>\n",
       "      <td>Nirbachan</td>\n",
       "    </tr>\n",
       "  </tbody>\n",
       "</table>\n",
       "</div>"
      ],
      "text/plain": [
       "                     entity  found_person  num_entities  \\\n",
       "0  Margaret Louise Skourlis          True             1   \n",
       "2          Michael D. Mehta          True             1   \n",
       "6  Sangsadia Nirbachan 1991          True             1   \n",
       "\n",
       "   is_multiple_entity_types                                      file_name  \\\n",
       "0                     False  daily_afd_log/2023-01-01/2022_December_21.txt   \n",
       "2                     False  daily_afd_log/2023-01-01/2022_December_21.txt   \n",
       "6                     False  daily_afd_log/2023-01-01/2022_December_21.txt   \n",
       "\n",
       "                                          discussion afd_result first_name  \\\n",
       "0  <div class=\"boilerplate afd vfd xfd-closed arc...     delete   Margaret   \n",
       "2  <div class=\"boilerplate afd vfd xfd-closed arc...     delete    Michael   \n",
       "6  <div class=\"boilerplate afd vfd xfd-closed arc...      merge  Sangsadia   \n",
       "\n",
       "   last_name  \n",
       "0   Skourlis  \n",
       "2      Mehta  \n",
       "6  Nirbachan  "
      ]
     },
     "execution_count": 12,
     "metadata": {},
     "output_type": "execute_result"
    }
   ],
   "source": [
    "people_to_process[0:3]"
   ]
  },
  {
   "cell_type": "markdown",
   "metadata": {},
   "source": [
    "## Run gender detector on the first name only"
   ]
  },
  {
   "cell_type": "code",
   "execution_count": 13,
   "metadata": {},
   "outputs": [],
   "source": [
    "def gender_detector(first_name):\n",
    "  '''\n",
    "  Detects the gender of a given name string.\n",
    "\n",
    "  Args:\n",
    "      first_name (str): A string containing a first name.\n",
    "\n",
    "  Returns:\n",
    "      str or None: The gender of the given name, or None if the name is not recognized.\n",
    "\n",
    "  Example:\n",
    "      >>> gender_detector(\"John\")\n",
    "      'male'\n",
    "  '''\n",
    "  detector = gender.Detector()\n",
    "  \n",
    "  try:\n",
    "    return detector.get_gender(first_name) \n",
    "  except:\n",
    "    return None"
   ]
  },
  {
   "cell_type": "code",
   "execution_count": 14,
   "metadata": {},
   "outputs": [
    {
     "name": "stdout",
     "output_type": "stream",
     "text": [
      "Elapsed time:  254.07040309906006\n"
     ]
    }
   ],
   "source": [
    "start_time = time.time()\n",
    "# this script is slow, so we will only run it on unique first names\n",
    "unique_first_names =  pd.DataFrame({\"first_name\": list(set(people_to_process['first_name']))})\n",
    "unique_first_names['inferred_gender'] = unique_first_names['first_name'].apply(lambda x: gender_detector(x))\n",
    "end_time = time.time()\n",
    "elapsed_time = end_time - start_time\n",
    "print(\"Elapsed time: \", elapsed_time)"
   ]
  },
  {
   "cell_type": "code",
   "execution_count": 15,
   "metadata": {},
   "outputs": [],
   "source": [
    "# join inferred gender onto dataframe with names of all Wikipedia subjects\n",
    "people_to_process = people_to_process.merge(unique_first_names,\n",
    "                                           on = ['first_name'],\n",
    "                                           how=\"left\")"
   ]
  },
  {
   "cell_type": "code",
   "execution_count": 16,
   "metadata": {},
   "outputs": [
    {
     "data": {
      "text/plain": [
       "male             431\n",
       "unknown          285\n",
       "female           150\n",
       "mostly_male       27\n",
       "mostly_female     18\n",
       "andy              18\n",
       "Name: inferred_gender, dtype: int64"
      ]
     },
     "execution_count": 16,
     "metadata": {},
     "output_type": "execute_result"
    }
   ],
   "source": [
    "people_to_process['inferred_gender'].value_counts()"
   ]
  },
  {
   "cell_type": "code",
   "execution_count": 17,
   "metadata": {},
   "outputs": [
    {
     "data": {
      "text/plain": [
       "male             0.463940\n",
       "unknown          0.306781\n",
       "female           0.161464\n",
       "mostly_male      0.029064\n",
       "mostly_female    0.019376\n",
       "andy             0.019376\n",
       "Name: inferred_gender, dtype: float64"
      ]
     },
     "execution_count": 17,
     "metadata": {},
     "output_type": "execute_result"
    }
   ],
   "source": [
    "people_to_process['inferred_gender'].value_counts() / people_to_process.shape[0]"
   ]
  },
  {
   "cell_type": "code",
   "execution_count": 18,
   "metadata": {},
   "outputs": [
    {
     "data": {
      "text/html": [
       "<div>\n",
       "<style scoped>\n",
       "    .dataframe tbody tr th:only-of-type {\n",
       "        vertical-align: middle;\n",
       "    }\n",
       "\n",
       "    .dataframe tbody tr th {\n",
       "        vertical-align: top;\n",
       "    }\n",
       "\n",
       "    .dataframe thead th {\n",
       "        text-align: right;\n",
       "    }\n",
       "</style>\n",
       "<table border=\"1\" class=\"dataframe\">\n",
       "  <thead>\n",
       "    <tr style=\"text-align: right;\">\n",
       "      <th></th>\n",
       "      <th>entity</th>\n",
       "      <th>found_person</th>\n",
       "      <th>num_entities</th>\n",
       "      <th>is_multiple_entity_types</th>\n",
       "      <th>file_name</th>\n",
       "      <th>discussion</th>\n",
       "      <th>afd_result</th>\n",
       "      <th>first_name</th>\n",
       "      <th>last_name</th>\n",
       "      <th>inferred_gender</th>\n",
       "    </tr>\n",
       "  </thead>\n",
       "  <tbody>\n",
       "    <tr>\n",
       "      <th>0</th>\n",
       "      <td>Margaret Louise Skourlis</td>\n",
       "      <td>True</td>\n",
       "      <td>1</td>\n",
       "      <td>False</td>\n",
       "      <td>daily_afd_log/2023-01-01/2022_December_21.txt</td>\n",
       "      <td>&lt;div class=\"boilerplate afd vfd xfd-closed arc...</td>\n",
       "      <td>delete</td>\n",
       "      <td>Margaret</td>\n",
       "      <td>Skourlis</td>\n",
       "      <td>female</td>\n",
       "    </tr>\n",
       "    <tr>\n",
       "      <th>1</th>\n",
       "      <td>Michael D. Mehta</td>\n",
       "      <td>True</td>\n",
       "      <td>1</td>\n",
       "      <td>False</td>\n",
       "      <td>daily_afd_log/2023-01-01/2022_December_21.txt</td>\n",
       "      <td>&lt;div class=\"boilerplate afd vfd xfd-closed arc...</td>\n",
       "      <td>delete</td>\n",
       "      <td>Michael</td>\n",
       "      <td>Mehta</td>\n",
       "      <td>male</td>\n",
       "    </tr>\n",
       "    <tr>\n",
       "      <th>2</th>\n",
       "      <td>Sangsadia Nirbachan 1991</td>\n",
       "      <td>True</td>\n",
       "      <td>1</td>\n",
       "      <td>False</td>\n",
       "      <td>daily_afd_log/2023-01-01/2022_December_21.txt</td>\n",
       "      <td>&lt;div class=\"boilerplate afd vfd xfd-closed arc...</td>\n",
       "      <td>merge</td>\n",
       "      <td>Sangsadia</td>\n",
       "      <td>Nirbachan</td>\n",
       "      <td>unknown</td>\n",
       "    </tr>\n",
       "  </tbody>\n",
       "</table>\n",
       "</div>"
      ],
      "text/plain": [
       "                     entity  found_person  num_entities  \\\n",
       "0  Margaret Louise Skourlis          True             1   \n",
       "1          Michael D. Mehta          True             1   \n",
       "2  Sangsadia Nirbachan 1991          True             1   \n",
       "\n",
       "   is_multiple_entity_types                                      file_name  \\\n",
       "0                     False  daily_afd_log/2023-01-01/2022_December_21.txt   \n",
       "1                     False  daily_afd_log/2023-01-01/2022_December_21.txt   \n",
       "2                     False  daily_afd_log/2023-01-01/2022_December_21.txt   \n",
       "\n",
       "                                          discussion afd_result first_name  \\\n",
       "0  <div class=\"boilerplate afd vfd xfd-closed arc...     delete   Margaret   \n",
       "1  <div class=\"boilerplate afd vfd xfd-closed arc...     delete    Michael   \n",
       "2  <div class=\"boilerplate afd vfd xfd-closed arc...      merge  Sangsadia   \n",
       "\n",
       "   last_name inferred_gender  \n",
       "0   Skourlis          female  \n",
       "1      Mehta            male  \n",
       "2  Nirbachan         unknown  "
      ]
     },
     "execution_count": 18,
     "metadata": {},
     "output_type": "execute_result"
    }
   ],
   "source": [
    "people_to_process[0:3]"
   ]
  },
  {
   "cell_type": "markdown",
   "metadata": {},
   "source": [
    "## Write results"
   ]
  },
  {
   "cell_type": "code",
   "execution_count": 19,
   "metadata": {},
   "outputs": [],
   "source": [
    "s3_writer = boto3.client('s3',\n",
    "                    region_name='us-east-1',\n",
    "                    aws_access_key_id=cfg.aws_writer['accessCode'],\n",
    "                    aws_secret_access_key=cfg.aws_writer['secretCode'])"
   ]
  },
  {
   "cell_type": "code",
   "execution_count": 20,
   "metadata": {},
   "outputs": [
    {
     "data": {
      "text/plain": [
       "{'ResponseMetadata': {'RequestId': 'NNFH2JPGCEYQ1KDG',\n",
       "  'HostId': 'Hq7Oiqd1sV7OEq4Tduaetd7OIc4HEzXyek/Rq4s02aS3akIvEv4DydWkc37GkL+XGcxr4URai0Y=',\n",
       "  'HTTPStatusCode': 200,\n",
       "  'HTTPHeaders': {'x-amz-id-2': 'Hq7Oiqd1sV7OEq4Tduaetd7OIc4HEzXyek/Rq4s02aS3akIvEv4DydWkc37GkL+XGcxr4URai0Y=',\n",
       "   'x-amz-request-id': 'NNFH2JPGCEYQ1KDG',\n",
       "   'date': 'Sat, 03 Jun 2023 13:20:15 GMT',\n",
       "   'x-amz-server-side-encryption': 'AES256',\n",
       "   'etag': '\"adc8d14d0f31da4129d6609afb8646ec\"',\n",
       "   'server': 'AmazonS3',\n",
       "   'content-length': '0'},\n",
       "  'RetryAttempts': 0},\n",
       " 'ETag': '\"adc8d14d0f31da4129d6609afb8646ec\"',\n",
       " 'ServerSideEncryption': 'AES256'}"
      ]
     },
     "execution_count": 20,
     "metadata": {},
     "output_type": "execute_result"
    }
   ],
   "source": [
    "out_buffer = io.BytesIO()\n",
    "people_to_process.to_parquet(out_buffer, index=False)\n",
    "s3_writer.put_object( Bucket=config_files['INTEREDIARY_OUTPUT_BUCKET'], \n",
    "                     Key=config_files['INFERRED_GENDER'], \n",
    "                     Body=out_buffer.getvalue())"
   ]
  }
 ],
 "metadata": {
  "kernelspec": {
   "display_name": "Python 3",
   "language": "python",
   "name": "python3"
  },
  "language_info": {
   "codemirror_mode": {
    "name": "ipython",
    "version": 3
   },
   "file_extension": ".py",
   "mimetype": "text/x-python",
   "name": "python",
   "nbconvert_exporter": "python",
   "pygments_lexer": "ipython3",
   "version": "3.7.8"
  }
 },
 "nbformat": 4,
 "nbformat_minor": 4
}
