{
 "cells": [
  {
   "cell_type": "code",
   "execution_count": 1,
   "metadata": {},
   "outputs": [],
   "source": [
    "from bs4 import BeautifulSoup\n",
    "import boto3\n",
    "import config as cfg\n",
    "import datetime \n",
    "import io\n",
    "import numpy as np\n",
    "import pandas as pd\n",
    "import time\n",
    "import yaml"
   ]
  },
  {
   "cell_type": "markdown",
   "metadata": {},
   "source": [
    "## Objective: Identify Articles for Deletion articles that we found populated vs those that were already deleted when scraped"
   ]
  },
  {
   "cell_type": "code",
   "execution_count": 2,
   "metadata": {},
   "outputs": [],
   "source": [
    "%run \"../libraries/aws_utils.ipynb\""
   ]
  },
  {
   "cell_type": "code",
   "execution_count": 3,
   "metadata": {},
   "outputs": [],
   "source": [
    "%run \"../libraries/general_utils.ipynb\""
   ]
  },
  {
   "cell_type": "code",
   "execution_count": 4,
   "metadata": {},
   "outputs": [],
   "source": [
    "with open('config.yml', 'r') as file:\n",
    "   config_files = yaml.safe_load(file)"
   ]
  },
  {
   "cell_type": "code",
   "execution_count": 5,
   "metadata": {},
   "outputs": [],
   "source": [
    "s3_reader = boto3.resource('s3',\n",
    "                    region_name='us-east-1',\n",
    "                    aws_access_key_id=cfg.aws_reader['accessCode'],\n",
    "                    aws_secret_access_key=cfg.aws_reader['secretCode'])"
   ]
  },
  {
   "cell_type": "code",
   "execution_count": 6,
   "metadata": {},
   "outputs": [],
   "source": [
    "buffer = io.BytesIO()"
   ]
  },
  {
   "cell_type": "code",
   "execution_count": 7,
   "metadata": {},
   "outputs": [],
   "source": [
    "scraped_files = read_parquet_file(s3_reader, \n",
    "                                  config_files['INTEREDIARY_OUTPUT_BUCKET'], \n",
    "                      config_files['JOINED_ARTICLE_SCRAPE_DATES_AND_AFD_NAMES'])"
   ]
  },
  {
   "cell_type": "code",
   "execution_count": 8,
   "metadata": {},
   "outputs": [
    {
     "data": {
      "text/html": [
       "<div>\n",
       "<style scoped>\n",
       "    .dataframe tbody tr th:only-of-type {\n",
       "        vertical-align: middle;\n",
       "    }\n",
       "\n",
       "    .dataframe tbody tr th {\n",
       "        vertical-align: top;\n",
       "    }\n",
       "\n",
       "    .dataframe thead th {\n",
       "        text-align: right;\n",
       "    }\n",
       "</style>\n",
       "<table border=\"1\" class=\"dataframe\">\n",
       "  <thead>\n",
       "    <tr style=\"text-align: right;\">\n",
       "      <th></th>\n",
       "      <th>article_id</th>\n",
       "      <th>scrape_date</th>\n",
       "      <th>entity</th>\n",
       "      <th>found_person</th>\n",
       "      <th>num_entities</th>\n",
       "      <th>is_multiple_entity_types</th>\n",
       "      <th>file_name</th>\n",
       "      <th>discussion</th>\n",
       "      <th>afd_result</th>\n",
       "      <th>title_links</th>\n",
       "    </tr>\n",
       "  </thead>\n",
       "  <tbody>\n",
       "    <tr>\n",
       "      <th>0</th>\n",
       "      <td>2022_Glen_Waverley_Suicide</td>\n",
       "      <td>[2023-01-01T00:00:00.000000, 2023-01-02T00:00:...</td>\n",
       "      <td>2022 Glen Waverley Suicide</td>\n",
       "      <td>True</td>\n",
       "      <td>1.0</td>\n",
       "      <td>False</td>\n",
       "      <td>daily_afd_log/2023-01-03/2022_December_23.txt</td>\n",
       "      <td>&lt;div class=\"boilerplate afd vfd xfd-closed arc...</td>\n",
       "      <td>delete</td>\n",
       "      <td>[https://en.wikipedia.org/w/index.php?title=20...</td>\n",
       "    </tr>\n",
       "    <tr>\n",
       "      <th>1</th>\n",
       "      <td>A.S.D._Villabiagio</td>\n",
       "      <td>[2023-01-01T00:00:00.000000, 2023-01-02T00:00:...</td>\n",
       "      <td>A.S.D. Villabiagio</td>\n",
       "      <td>True</td>\n",
       "      <td>1.0</td>\n",
       "      <td>False</td>\n",
       "      <td>daily_afd_log/2023-01-03/2022_December_23.txt</td>\n",
       "      <td>&lt;div class=\"boilerplate afd vfd xfd-closed arc...</td>\n",
       "      <td>keep</td>\n",
       "      <td>[https://en.wikipedia.org/w/index.php?title=A....</td>\n",
       "    </tr>\n",
       "    <tr>\n",
       "      <th>2</th>\n",
       "      <td>Aaron_Kemmer</td>\n",
       "      <td>[2023-01-01T00:00:00.000000, 2023-01-02T00:00:...</td>\n",
       "      <td>Aaron Kemmer</td>\n",
       "      <td>True</td>\n",
       "      <td>1.0</td>\n",
       "      <td>False</td>\n",
       "      <td>daily_afd_log/2023-01-19/2023_January_8.txt</td>\n",
       "      <td>&lt;div class=\"boilerplate afd vfd xfd-closed arc...</td>\n",
       "      <td>delete</td>\n",
       "      <td>[https://en.wikipedia.org/w/index.php?title=Aa...</td>\n",
       "    </tr>\n",
       "  </tbody>\n",
       "</table>\n",
       "</div>"
      ],
      "text/plain": [
       "                   article_id  \\\n",
       "0  2022_Glen_Waverley_Suicide   \n",
       "1          A.S.D._Villabiagio   \n",
       "2                Aaron_Kemmer   \n",
       "\n",
       "                                         scrape_date  \\\n",
       "0  [2023-01-01T00:00:00.000000, 2023-01-02T00:00:...   \n",
       "1  [2023-01-01T00:00:00.000000, 2023-01-02T00:00:...   \n",
       "2  [2023-01-01T00:00:00.000000, 2023-01-02T00:00:...   \n",
       "\n",
       "                       entity  found_person  num_entities  \\\n",
       "0  2022 Glen Waverley Suicide          True           1.0   \n",
       "1          A.S.D. Villabiagio          True           1.0   \n",
       "2                Aaron Kemmer          True           1.0   \n",
       "\n",
       "   is_multiple_entity_types                                      file_name  \\\n",
       "0                     False  daily_afd_log/2023-01-03/2022_December_23.txt   \n",
       "1                     False  daily_afd_log/2023-01-03/2022_December_23.txt   \n",
       "2                     False    daily_afd_log/2023-01-19/2023_January_8.txt   \n",
       "\n",
       "                                          discussion afd_result  \\\n",
       "0  <div class=\"boilerplate afd vfd xfd-closed arc...     delete   \n",
       "1  <div class=\"boilerplate afd vfd xfd-closed arc...       keep   \n",
       "2  <div class=\"boilerplate afd vfd xfd-closed arc...     delete   \n",
       "\n",
       "                                         title_links  \n",
       "0  [https://en.wikipedia.org/w/index.php?title=20...  \n",
       "1  [https://en.wikipedia.org/w/index.php?title=A....  \n",
       "2  [https://en.wikipedia.org/w/index.php?title=Aa...  "
      ]
     },
     "execution_count": 8,
     "metadata": {},
     "output_type": "execute_result"
    }
   ],
   "source": [
    "scraped_files[0:3]"
   ]
  },
  {
   "cell_type": "code",
   "execution_count": 9,
   "metadata": {},
   "outputs": [
    {
     "data": {
      "text/plain": [
       "782"
      ]
     },
     "execution_count": 9,
     "metadata": {},
     "output_type": "execute_result"
    }
   ],
   "source": [
    "scraped_files.shape[0]"
   ]
  },
  {
   "cell_type": "markdown",
   "metadata": {},
   "source": [
    "## Check if articles are deleted or populated"
   ]
  },
  {
   "cell_type": "code",
   "execution_count": 10,
   "metadata": {},
   "outputs": [],
   "source": [
    "def check_if_article_is_deleted(file_text):\n",
    "    ARTICLE_DELETED_STRING = 'Wikipedia does not have an article with this exact name'\n",
    "    if ARTICLE_DELETED_STRING in file:\n",
    "        return 'deleted'\n",
    "    else:\n",
    "        return 'kept'"
   ]
  },
  {
   "cell_type": "code",
   "execution_count": 11,
   "metadata": {},
   "outputs": [],
   "source": [
    "start_time = time.time()"
   ]
  },
  {
   "cell_type": "code",
   "execution_count": 12,
   "metadata": {},
   "outputs": [],
   "source": [
    "results = pd.DataFrame()\n",
    "\n",
    "# using a for loop for now; it runs relatively fast (2 minutes across 700 records)\n",
    "for index, row in scraped_files.iterrows():\n",
    "    \n",
    "    num_scraped_pages = len(row['scrape_date'])\n",
    "    \n",
    "    for j in range(0, num_scraped_pages):\n",
    "        scraped_article_path = f'''individual_afd_page_html/{row['scrape_date'][j].astype(datetime.datetime).strftime('%Y-%m-%d')}/{row['article_id']}.txt'''\n",
    "        file = read_s3_file(s3_reader, config_files['RAW_BUCKET'], \n",
    "                            scraped_article_path)\n",
    "        outcome = check_if_article_is_deleted(file)\n",
    "        \n",
    "        if outcome==\"kept\":\n",
    "            temp_results = pd.DataFrame({\"article_id\": row['article_id'],\n",
    "                                        \"scraped_date\": row['scrape_date'][j],\n",
    "                                         \"is_kept\": True,\n",
    "                                        \"scraped_path\": scraped_article_path}, index=[0])\n",
    "            \n",
    "            break\n",
    "        \n",
    "        if outcome != \"kept\" and j==(num_scraped_pages-1):\n",
    "                temp_results = pd.DataFrame({\"article_id\": row['article_id'],\n",
    "                                            \"scraped_date\": None,\n",
    "                                             \"is_kept\": False,\n",
    "                                            \"scraped_path\": None}, index=[0])\n",
    "        \n",
    "    if results is None:\n",
    "        results = temp_results\n",
    "    else:\n",
    "        results = results.append(temp_results)"
   ]
  },
  {
   "cell_type": "code",
   "execution_count": 13,
   "metadata": {},
   "outputs": [],
   "source": [
    "end_time = time.time()\n",
    "execution_time = end_time - start_time"
   ]
  },
  {
   "cell_type": "code",
   "execution_count": 14,
   "metadata": {},
   "outputs": [
    {
     "name": "stdout",
     "output_type": "stream",
     "text": [
      "Run time: 106.89912104606628\n"
     ]
    }
   ],
   "source": [
    "print(f'Run time: {execution_time}')"
   ]
  },
  {
   "cell_type": "code",
   "execution_count": 15,
   "metadata": {},
   "outputs": [
    {
     "data": {
      "text/html": [
       "<div>\n",
       "<style scoped>\n",
       "    .dataframe tbody tr th:only-of-type {\n",
       "        vertical-align: middle;\n",
       "    }\n",
       "\n",
       "    .dataframe tbody tr th {\n",
       "        vertical-align: top;\n",
       "    }\n",
       "\n",
       "    .dataframe thead th {\n",
       "        text-align: right;\n",
       "    }\n",
       "</style>\n",
       "<table border=\"1\" class=\"dataframe\">\n",
       "  <thead>\n",
       "    <tr style=\"text-align: right;\">\n",
       "      <th></th>\n",
       "      <th>article_id</th>\n",
       "      <th>scraped_date</th>\n",
       "      <th>is_kept</th>\n",
       "      <th>scraped_path</th>\n",
       "    </tr>\n",
       "  </thead>\n",
       "  <tbody>\n",
       "    <tr>\n",
       "      <th>0</th>\n",
       "      <td>2022_Glen_Waverley_Suicide</td>\n",
       "      <td>NaT</td>\n",
       "      <td>False</td>\n",
       "      <td>None</td>\n",
       "    </tr>\n",
       "    <tr>\n",
       "      <th>0</th>\n",
       "      <td>A.S.D._Villabiagio</td>\n",
       "      <td>2023-01-01 00:00:00</td>\n",
       "      <td>True</td>\n",
       "      <td>individual_afd_page_html/2023-01-01/A.S.D._Vil...</td>\n",
       "    </tr>\n",
       "    <tr>\n",
       "      <th>0</th>\n",
       "      <td>Aaron_Kemmer</td>\n",
       "      <td>2023-01-01 00:00:00</td>\n",
       "      <td>True</td>\n",
       "      <td>individual_afd_page_html/2023-01-01/Aaron_Kemm...</td>\n",
       "    </tr>\n",
       "  </tbody>\n",
       "</table>\n",
       "</div>"
      ],
      "text/plain": [
       "                   article_id         scraped_date  is_kept  \\\n",
       "0  2022_Glen_Waverley_Suicide                  NaT    False   \n",
       "0          A.S.D._Villabiagio  2023-01-01 00:00:00     True   \n",
       "0                Aaron_Kemmer  2023-01-01 00:00:00     True   \n",
       "\n",
       "                                        scraped_path  \n",
       "0                                               None  \n",
       "0  individual_afd_page_html/2023-01-01/A.S.D._Vil...  \n",
       "0  individual_afd_page_html/2023-01-01/Aaron_Kemm...  "
      ]
     },
     "execution_count": 15,
     "metadata": {},
     "output_type": "execute_result"
    }
   ],
   "source": [
    "results[0:3]"
   ]
  },
  {
   "cell_type": "code",
   "execution_count": 16,
   "metadata": {},
   "outputs": [
    {
     "data": {
      "text/plain": [
       "True     566\n",
       "False    216\n",
       "Name: is_kept, dtype: int64"
      ]
     },
     "execution_count": 16,
     "metadata": {},
     "output_type": "execute_result"
    }
   ],
   "source": [
    "results['is_kept'].value_counts()"
   ]
  },
  {
   "cell_type": "code",
   "execution_count": 17,
   "metadata": {},
   "outputs": [
    {
     "data": {
      "text/plain": [
       "True     0.723785\n",
       "False    0.276215\n",
       "Name: is_kept, dtype: float64"
      ]
     },
     "execution_count": 17,
     "metadata": {},
     "output_type": "execute_result"
    }
   ],
   "source": [
    "results['is_kept'].value_counts() / results.shape[0]"
   ]
  },
  {
   "cell_type": "markdown",
   "metadata": {},
   "source": [
    "## Write results"
   ]
  },
  {
   "cell_type": "code",
   "execution_count": 18,
   "metadata": {},
   "outputs": [],
   "source": [
    "s3_writer = boto3.client('s3',\n",
    "                    region_name='us-east-1',\n",
    "                    aws_access_key_id=cfg.aws_writer['accessCode'],\n",
    "                    aws_secret_access_key=cfg.aws_writer['secretCode'])"
   ]
  },
  {
   "cell_type": "code",
   "execution_count": 19,
   "metadata": {},
   "outputs": [
    {
     "data": {
      "text/plain": [
       "{'ResponseMetadata': {'RequestId': '8ER8Q0BD2M97ZAT3',\n",
       "  'HostId': 'Zgp9ZEkNBAKc1liH6tFFZMFil3ga3caUFAuOTgPMZ8HaoXZuUki775KkJGheb6O72N5TueelISI=',\n",
       "  'HTTPStatusCode': 200,\n",
       "  'HTTPHeaders': {'x-amz-id-2': 'Zgp9ZEkNBAKc1liH6tFFZMFil3ga3caUFAuOTgPMZ8HaoXZuUki775KkJGheb6O72N5TueelISI=',\n",
       "   'x-amz-request-id': '8ER8Q0BD2M97ZAT3',\n",
       "   'date': 'Sun, 28 May 2023 17:05:47 GMT',\n",
       "   'x-amz-server-side-encryption': 'AES256',\n",
       "   'etag': '\"c663203b90c31eb3f43c81a514689dae\"',\n",
       "   'server': 'AmazonS3',\n",
       "   'content-length': '0'},\n",
       "  'RetryAttempts': 0},\n",
       " 'ETag': '\"c663203b90c31eb3f43c81a514689dae\"',\n",
       " 'ServerSideEncryption': 'AES256'}"
      ]
     },
     "execution_count": 19,
     "metadata": {},
     "output_type": "execute_result"
    }
   ],
   "source": [
    "out_buffer = io.BytesIO()\n",
    "results.to_parquet(out_buffer, index=False)\n",
    "s3_writer.put_object( Bucket=config_files['INTEREDIARY_OUTPUT_BUCKET'], \n",
    "                     Key=config_files['DELETED_VS_POPULATED_AFD_ARTICLES'], \n",
    "                     Body=out_buffer.getvalue())"
   ]
  },
  {
   "cell_type": "code",
   "execution_count": null,
   "metadata": {},
   "outputs": [],
   "source": []
  }
 ],
 "metadata": {
  "kernelspec": {
   "display_name": "Python 3",
   "language": "python",
   "name": "python3"
  },
  "language_info": {
   "codemirror_mode": {
    "name": "ipython",
    "version": 3
   },
   "file_extension": ".py",
   "mimetype": "text/x-python",
   "name": "python",
   "nbconvert_exporter": "python",
   "pygments_lexer": "ipython3",
   "version": "3.7.8"
  }
 },
 "nbformat": 4,
 "nbformat_minor": 4
}
