{
 "cells": [
  {
   "cell_type": "code",
   "execution_count": 1,
   "metadata": {},
   "outputs": [],
   "source": [
    "from bs4 import BeautifulSoup\n",
    "import boto3\n",
    "import config as cfg\n",
    "import datetime \n",
    "import io\n",
    "import numpy as np\n",
    "import pandas as pd\n",
    "import re\n",
    "import seaborn as sns\n",
    "import time\n",
    "from urllib.parse import urlparse\n",
    "import yaml"
   ]
  },
  {
   "cell_type": "code",
   "execution_count": 2,
   "metadata": {},
   "outputs": [],
   "source": [
    "%run \"../libraries/aws_utils.ipynb\""
   ]
  },
  {
   "cell_type": "code",
   "execution_count": 3,
   "metadata": {},
   "outputs": [],
   "source": [
    "%run \"../libraries/general_utils.ipynb\""
   ]
  },
  {
   "cell_type": "code",
   "execution_count": 4,
   "metadata": {},
   "outputs": [],
   "source": [
    "with open('../data_engineering/config.yml', 'r') as file:\n",
    "   config_files = yaml.safe_load(file)"
   ]
  },
  {
   "cell_type": "markdown",
   "metadata": {},
   "source": [
    "## Load file with counts of pronouns in each Wiki article"
   ]
  },
  {
   "cell_type": "code",
   "execution_count": 5,
   "metadata": {},
   "outputs": [],
   "source": [
    "s3_reader = boto3.resource('s3',\n",
    "                    region_name='us-east-1',\n",
    "                    aws_access_key_id=cfg.aws_reader['accessCode'],\n",
    "                    aws_secret_access_key=cfg.aws_reader['secretCode'])"
   ]
  },
  {
   "cell_type": "code",
   "execution_count": 6,
   "metadata": {},
   "outputs": [],
   "source": [
    "pronoun_data = read_parquet_file(s3_reader, \n",
    "                                  config_files['INTEREDIARY_OUTPUT_BUCKET'], \n",
    "                      config_files['EXTRACTED_PRONOUNS'],\n",
    "                                          )\n",
    "test_primary_key(pronoun_data, ['article_id', 'file_name'])"
   ]
  },
  {
   "cell_type": "code",
   "execution_count": 7,
   "metadata": {},
   "outputs": [
    {
     "name": "stdout",
     "output_type": "stream",
     "text": [
      "Original rows: 566\n",
      "Rows after dropping articles without pronouns: 482\n"
     ]
    }
   ],
   "source": [
    "original_rows = pronoun_data.shape[0]\n",
    "pronoun_data = pronoun_data[pronoun_data['sum_pronouns']>0]\n",
    "print(f'Original rows: {original_rows}')\n",
    "print(f'Rows after dropping articles without pronouns: {pronoun_data.shape[0]}')"
   ]
  },
  {
   "cell_type": "markdown",
   "metadata": {},
   "source": [
    "## Infer gender based on pronoun that occurs most frequently in article\n",
    "\n",
    "* In Costa-jussà et al. (2019), \"the gender of the article is extracted as that\n",
    "corresponding to the maximum number of gendered pronouns (i.e., he and she in English) mentioned in the article [...] this method of gender inference\n",
    "is overwhelmingly accurate, in a random test set of 500 articles, it achieved 100% precision with 97.6% recall\"\n",
    "* Citation: Marta R. Costa-jussà, Pau Li Lin, Cristina España-Bonet: “GeBioToolkit: Automatic Extraction of Gender-Balanced Multilingual Corpus of Wikipedia Biographies”, 2019; [http://arxiv.org/abs/1912.04778 arXiv:1912.04778]."
   ]
  },
  {
   "cell_type": "code",
   "execution_count": 8,
   "metadata": {},
   "outputs": [],
   "source": [
    "max_pronoun_col = pronoun_data[[ 'num_male_tokens', 'num_female_tokens',\n",
    "       'num_non_binary_tokens', 'num_neo_tokens']].idxmax(axis=1)\n",
    "pronoun_data['max_pronoun_column'] = max_pronoun_col\n",
    "pronoun_data['max_pronoun_column'] = pronoun_data['max_pronoun_column'].apply(lambda x:\n",
    "                                                                              x.replace(\"num_\", \"\").replace(\"_tokens\", \"\") )"
   ]
  },
  {
   "cell_type": "code",
   "execution_count": 9,
   "metadata": {},
   "outputs": [
    {
     "data": {
      "text/plain": [
       "male          321\n",
       "female        113\n",
       "non_binary     48\n",
       "Name: max_pronoun_column, dtype: int64"
      ]
     },
     "execution_count": 9,
     "metadata": {},
     "output_type": "execute_result"
    }
   ],
   "source": [
    "pronoun_data['max_pronoun_column'].value_counts()"
   ]
  },
  {
   "cell_type": "code",
   "execution_count": 10,
   "metadata": {},
   "outputs": [
    {
     "name": "stderr",
     "output_type": "stream",
     "text": [
      "/Library/Frameworks/Python.framework/Versions/3.7/lib/python3.7/site-packages/seaborn/_decorators.py:43: FutureWarning: Pass the following variable as a keyword arg: x. From version 0.12, the only valid positional argument will be `data`, and passing other arguments without an explicit keyword will result in an error or misinterpretation.\n",
      "  FutureWarning\n"
     ]
    },
    {
     "data": {
      "text/plain": [
       "<AxesSubplot:xlabel='num_male_tokens'>"
      ]
     },
     "execution_count": 10,
     "metadata": {},
     "output_type": "execute_result"
    },
    {
     "data": {
      "image/png": "[encoded data removed]",
      "text/plain": [
       "<Figure size 432x288 with 1 Axes>"
      ]
     },
     "metadata": {
      "needs_background": "light"
     },
     "output_type": "display_data"
    }
   ],
   "source": [
    "sns.boxplot(pronoun_data[pronoun_data['max_pronoun_column']==\"male\"]['num_male_tokens'])"
   ]
  },
  {
   "cell_type": "code",
   "execution_count": 11,
   "metadata": {},
   "outputs": [
    {
     "data": {
      "text/html": [
       "<div>\n",
       "<style scoped>\n",
       "    .dataframe tbody tr th:only-of-type {\n",
       "        vertical-align: middle;\n",
       "    }\n",
       "\n",
       "    .dataframe tbody tr th {\n",
       "        vertical-align: top;\n",
       "    }\n",
       "\n",
       "    .dataframe thead th {\n",
       "        text-align: right;\n",
       "    }\n",
       "</style>\n",
       "<table border=\"1\" class=\"dataframe\">\n",
       "  <thead>\n",
       "    <tr style=\"text-align: right;\">\n",
       "      <th></th>\n",
       "      <th>article_id</th>\n",
       "      <th>file_name</th>\n",
       "      <th>scraped_path</th>\n",
       "      <th>entity</th>\n",
       "      <th>found_person</th>\n",
       "      <th>num_entities</th>\n",
       "      <th>afd_result</th>\n",
       "      <th>first_name</th>\n",
       "      <th>last_name</th>\n",
       "      <th>inferred_gender</th>\n",
       "      <th>...</th>\n",
       "      <th>num_male_coreference_tokens</th>\n",
       "      <th>num_female_coreference_tokens</th>\n",
       "      <th>num_non_binary_coreference_tokens</th>\n",
       "      <th>num_neo_coreference_tokens</th>\n",
       "      <th>sum_coreference_pronouns</th>\n",
       "      <th>pct_male_coreference_pronouns</th>\n",
       "      <th>pct_female_coreference_pronouns</th>\n",
       "      <th>pct_non_binary_coreference_pronouns</th>\n",
       "      <th>pct_neo_coreference_pronouns</th>\n",
       "      <th>max_pronoun_column</th>\n",
       "    </tr>\n",
       "  </thead>\n",
       "  <tbody>\n",
       "    <tr>\n",
       "      <th>115</th>\n",
       "      <td>Cristiano_Ronaldo_jr</td>\n",
       "      <td>daily_afd_log/2023-01-18/2023_January_7.txt</td>\n",
       "      <td>individual_afd_page_html/2023-01-15/Cristiano_...</td>\n",
       "      <td>Cristiano Ronaldo jr</td>\n",
       "      <td>True</td>\n",
       "      <td>1</td>\n",
       "      <td>redirect</td>\n",
       "      <td>Cristiano</td>\n",
       "      <td>Ronaldo</td>\n",
       "      <td>male</td>\n",
       "      <td>...</td>\n",
       "      <td>0</td>\n",
       "      <td>0</td>\n",
       "      <td>0</td>\n",
       "      <td>0</td>\n",
       "      <td>0</td>\n",
       "      <td>NaN</td>\n",
       "      <td>NaN</td>\n",
       "      <td>NaN</td>\n",
       "      <td>NaN</td>\n",
       "      <td>male</td>\n",
       "    </tr>\n",
       "    <tr>\n",
       "      <th>292</th>\n",
       "      <td>Karl_Heisenberg</td>\n",
       "      <td>daily_afd_log/2023-05-27/2023_May_18.txt</td>\n",
       "      <td>individual_afd_page_html/2023-05-19/Karl_Heise...</td>\n",
       "      <td>Karl Heisenberg</td>\n",
       "      <td>True</td>\n",
       "      <td>1</td>\n",
       "      <td>withdrawn</td>\n",
       "      <td>Karl</td>\n",
       "      <td>Heisenberg</td>\n",
       "      <td>male</td>\n",
       "      <td>...</td>\n",
       "      <td>0</td>\n",
       "      <td>0</td>\n",
       "      <td>0</td>\n",
       "      <td>0</td>\n",
       "      <td>0</td>\n",
       "      <td>NaN</td>\n",
       "      <td>NaN</td>\n",
       "      <td>NaN</td>\n",
       "      <td>NaN</td>\n",
       "      <td>male</td>\n",
       "    </tr>\n",
       "    <tr>\n",
       "      <th>436</th>\n",
       "      <td>Po_(Kung_Fu_Panda)</td>\n",
       "      <td>daily_afd_log/2023-03-05/2023_February_22.txt</td>\n",
       "      <td>individual_afd_page_html/2023-02-23/Po_(Kung_F...</td>\n",
       "      <td>Po (Kung Fu Panda)</td>\n",
       "      <td>True</td>\n",
       "      <td>1</td>\n",
       "      <td>keep</td>\n",
       "      <td>Po</td>\n",
       "      <td></td>\n",
       "      <td>andy</td>\n",
       "      <td>...</td>\n",
       "      <td>4</td>\n",
       "      <td>0</td>\n",
       "      <td>0</td>\n",
       "      <td>0</td>\n",
       "      <td>4</td>\n",
       "      <td>1.0</td>\n",
       "      <td>0.0</td>\n",
       "      <td>0.0</td>\n",
       "      <td>0.0</td>\n",
       "      <td>male</td>\n",
       "    </tr>\n",
       "    <tr>\n",
       "      <th>13</th>\n",
       "      <td>Al_Calavicci</td>\n",
       "      <td>daily_afd_log/2023-03-11/2023_February_28.txt</td>\n",
       "      <td>individual_afd_page_html/2023-03-01/Al_Calavic...</td>\n",
       "      <td>Al Calavicci</td>\n",
       "      <td>True</td>\n",
       "      <td>1</td>\n",
       "      <td>redirect</td>\n",
       "      <td>Al</td>\n",
       "      <td>Calavicci</td>\n",
       "      <td>male</td>\n",
       "      <td>...</td>\n",
       "      <td>151</td>\n",
       "      <td>0</td>\n",
       "      <td>0</td>\n",
       "      <td>0</td>\n",
       "      <td>151</td>\n",
       "      <td>1.0</td>\n",
       "      <td>0.0</td>\n",
       "      <td>0.0</td>\n",
       "      <td>0.0</td>\n",
       "      <td>male</td>\n",
       "    </tr>\n",
       "    <tr>\n",
       "      <th>466</th>\n",
       "      <td>Russel_Hobbs</td>\n",
       "      <td>daily_afd_log/2023-03-05/2023_February_22.txt</td>\n",
       "      <td>individual_afd_page_html/2023-02-23/Russel_Hob...</td>\n",
       "      <td>Russel Hobbs</td>\n",
       "      <td>True</td>\n",
       "      <td>1</td>\n",
       "      <td>merge</td>\n",
       "      <td>Russel</td>\n",
       "      <td>Hobbs</td>\n",
       "      <td>male</td>\n",
       "      <td>...</td>\n",
       "      <td>5</td>\n",
       "      <td>0</td>\n",
       "      <td>0</td>\n",
       "      <td>0</td>\n",
       "      <td>5</td>\n",
       "      <td>1.0</td>\n",
       "      <td>0.0</td>\n",
       "      <td>0.0</td>\n",
       "      <td>0.0</td>\n",
       "      <td>male</td>\n",
       "    </tr>\n",
       "    <tr>\n",
       "      <th>...</th>\n",
       "      <td>...</td>\n",
       "      <td>...</td>\n",
       "      <td>...</td>\n",
       "      <td>...</td>\n",
       "      <td>...</td>\n",
       "      <td>...</td>\n",
       "      <td>...</td>\n",
       "      <td>...</td>\n",
       "      <td>...</td>\n",
       "      <td>...</td>\n",
       "      <td>...</td>\n",
       "      <td>...</td>\n",
       "      <td>...</td>\n",
       "      <td>...</td>\n",
       "      <td>...</td>\n",
       "      <td>...</td>\n",
       "      <td>...</td>\n",
       "      <td>...</td>\n",
       "      <td>...</td>\n",
       "      <td>...</td>\n",
       "      <td>...</td>\n",
       "    </tr>\n",
       "    <tr>\n",
       "      <th>229</th>\n",
       "      <td>Isabella_Escobar</td>\n",
       "      <td>daily_afd_log/2023-03-08/2023_February_25.txt</td>\n",
       "      <td>individual_afd_page_html/2023-02-26/Isabella_E...</td>\n",
       "      <td>Isabella Escobar</td>\n",
       "      <td>True</td>\n",
       "      <td>1</td>\n",
       "      <td>delete</td>\n",
       "      <td>Isabella</td>\n",
       "      <td>Escobar</td>\n",
       "      <td>female</td>\n",
       "      <td>...</td>\n",
       "      <td>0</td>\n",
       "      <td>0</td>\n",
       "      <td>0</td>\n",
       "      <td>0</td>\n",
       "      <td>0</td>\n",
       "      <td>NaN</td>\n",
       "      <td>NaN</td>\n",
       "      <td>NaN</td>\n",
       "      <td>NaN</td>\n",
       "      <td>female</td>\n",
       "    </tr>\n",
       "    <tr>\n",
       "      <th>464</th>\n",
       "      <td>Romana_Umrianova</td>\n",
       "      <td>daily_afd_log/2023-01-21/2023_January_12.txt</td>\n",
       "      <td>individual_afd_page_html/2023-01-13/Romana_Umr...</td>\n",
       "      <td>Romana Umrianova</td>\n",
       "      <td>True</td>\n",
       "      <td>1</td>\n",
       "      <td>delete</td>\n",
       "      <td>Romana</td>\n",
       "      <td>Umrianova</td>\n",
       "      <td>female</td>\n",
       "      <td>...</td>\n",
       "      <td>0</td>\n",
       "      <td>8</td>\n",
       "      <td>0</td>\n",
       "      <td>0</td>\n",
       "      <td>8</td>\n",
       "      <td>0.0</td>\n",
       "      <td>1.0</td>\n",
       "      <td>0.0</td>\n",
       "      <td>0.0</td>\n",
       "      <td>female</td>\n",
       "    </tr>\n",
       "    <tr>\n",
       "      <th>413</th>\n",
       "      <td>Nora_Ariffin</td>\n",
       "      <td>daily_afd_log/2023-01-01/2022_December_21.txt</td>\n",
       "      <td>individual_afd_page_html/2023-01-01/Nora_Ariff...</td>\n",
       "      <td>Nora Ariffin</td>\n",
       "      <td>True</td>\n",
       "      <td>1</td>\n",
       "      <td>speedy keep</td>\n",
       "      <td>Nora</td>\n",
       "      <td>Ariffin</td>\n",
       "      <td>female</td>\n",
       "      <td>...</td>\n",
       "      <td>0</td>\n",
       "      <td>0</td>\n",
       "      <td>0</td>\n",
       "      <td>0</td>\n",
       "      <td>0</td>\n",
       "      <td>NaN</td>\n",
       "      <td>NaN</td>\n",
       "      <td>NaN</td>\n",
       "      <td>NaN</td>\n",
       "      <td>female</td>\n",
       "    </tr>\n",
       "    <tr>\n",
       "      <th>232</th>\n",
       "      <td>Iyanla_Bailey-Williams</td>\n",
       "      <td>daily_afd_log/2023-03-09/2023_February_26.txt</td>\n",
       "      <td>individual_afd_page_html/2023-02-26/Iyanla_Bai...</td>\n",
       "      <td>Iyanla Bailey-Williams</td>\n",
       "      <td>True</td>\n",
       "      <td>1</td>\n",
       "      <td>soft delete</td>\n",
       "      <td>Iyanla</td>\n",
       "      <td>Bailey-Williams</td>\n",
       "      <td>unknown</td>\n",
       "      <td>...</td>\n",
       "      <td>0</td>\n",
       "      <td>0</td>\n",
       "      <td>0</td>\n",
       "      <td>0</td>\n",
       "      <td>0</td>\n",
       "      <td>NaN</td>\n",
       "      <td>NaN</td>\n",
       "      <td>NaN</td>\n",
       "      <td>NaN</td>\n",
       "      <td>female</td>\n",
       "    </tr>\n",
       "    <tr>\n",
       "      <th>478</th>\n",
       "      <td>Sarah_Hamilton_(voice_actor)</td>\n",
       "      <td>daily_afd_log/2023-01-08/2022_December_28.txt</td>\n",
       "      <td>individual_afd_page_html/2023-01-01/Sarah_Hami...</td>\n",
       "      <td>Sarah Hamilton (voice actor)</td>\n",
       "      <td>True</td>\n",
       "      <td>1</td>\n",
       "      <td>delete</td>\n",
       "      <td>Sarah</td>\n",
       "      <td>Hamilton</td>\n",
       "      <td>female</td>\n",
       "      <td>...</td>\n",
       "      <td>0</td>\n",
       "      <td>4</td>\n",
       "      <td>0</td>\n",
       "      <td>0</td>\n",
       "      <td>4</td>\n",
       "      <td>0.0</td>\n",
       "      <td>1.0</td>\n",
       "      <td>0.0</td>\n",
       "      <td>0.0</td>\n",
       "      <td>female</td>\n",
       "    </tr>\n",
       "  </tbody>\n",
       "</table>\n",
       "<p>482 rows × 29 columns</p>\n",
       "</div>"
      ],
      "text/plain": [
       "                       article_id  \\\n",
       "115          Cristiano_Ronaldo_jr   \n",
       "292               Karl_Heisenberg   \n",
       "436            Po_(Kung_Fu_Panda)   \n",
       "13                   Al_Calavicci   \n",
       "466                  Russel_Hobbs   \n",
       "..                            ...   \n",
       "229              Isabella_Escobar   \n",
       "464              Romana_Umrianova   \n",
       "413                  Nora_Ariffin   \n",
       "232        Iyanla_Bailey-Williams   \n",
       "478  Sarah_Hamilton_(voice_actor)   \n",
       "\n",
       "                                         file_name  \\\n",
       "115    daily_afd_log/2023-01-18/2023_January_7.txt   \n",
       "292       daily_afd_log/2023-05-27/2023_May_18.txt   \n",
       "436  daily_afd_log/2023-03-05/2023_February_22.txt   \n",
       "13   daily_afd_log/2023-03-11/2023_February_28.txt   \n",
       "466  daily_afd_log/2023-03-05/2023_February_22.txt   \n",
       "..                                             ...   \n",
       "229  daily_afd_log/2023-03-08/2023_February_25.txt   \n",
       "464   daily_afd_log/2023-01-21/2023_January_12.txt   \n",
       "413  daily_afd_log/2023-01-01/2022_December_21.txt   \n",
       "232  daily_afd_log/2023-03-09/2023_February_26.txt   \n",
       "478  daily_afd_log/2023-01-08/2022_December_28.txt   \n",
       "\n",
       "                                          scraped_path  \\\n",
       "115  individual_afd_page_html/2023-01-15/Cristiano_...   \n",
       "292  individual_afd_page_html/2023-05-19/Karl_Heise...   \n",
       "436  individual_afd_page_html/2023-02-23/Po_(Kung_F...   \n",
       "13   individual_afd_page_html/2023-03-01/Al_Calavic...   \n",
       "466  individual_afd_page_html/2023-02-23/Russel_Hob...   \n",
       "..                                                 ...   \n",
       "229  individual_afd_page_html/2023-02-26/Isabella_E...   \n",
       "464  individual_afd_page_html/2023-01-13/Romana_Umr...   \n",
       "413  individual_afd_page_html/2023-01-01/Nora_Ariff...   \n",
       "232  individual_afd_page_html/2023-02-26/Iyanla_Bai...   \n",
       "478  individual_afd_page_html/2023-01-01/Sarah_Hami...   \n",
       "\n",
       "                           entity  found_person  num_entities   afd_result  \\\n",
       "115          Cristiano Ronaldo jr          True             1     redirect   \n",
       "292               Karl Heisenberg          True             1    withdrawn   \n",
       "436            Po (Kung Fu Panda)          True             1         keep   \n",
       "13                   Al Calavicci          True             1     redirect   \n",
       "466                  Russel Hobbs          True             1        merge   \n",
       "..                            ...           ...           ...          ...   \n",
       "229              Isabella Escobar          True             1       delete   \n",
       "464              Romana Umrianova          True             1       delete   \n",
       "413                  Nora Ariffin          True             1  speedy keep   \n",
       "232        Iyanla Bailey-Williams          True             1  soft delete   \n",
       "478  Sarah Hamilton (voice actor)          True             1       delete   \n",
       "\n",
       "    first_name        last_name inferred_gender  ...  \\\n",
       "115  Cristiano          Ronaldo            male  ...   \n",
       "292       Karl       Heisenberg            male  ...   \n",
       "436         Po                             andy  ...   \n",
       "13          Al        Calavicci            male  ...   \n",
       "466     Russel            Hobbs            male  ...   \n",
       "..         ...              ...             ...  ...   \n",
       "229   Isabella          Escobar          female  ...   \n",
       "464     Romana        Umrianova          female  ...   \n",
       "413       Nora          Ariffin          female  ...   \n",
       "232     Iyanla  Bailey-Williams         unknown  ...   \n",
       "478      Sarah         Hamilton          female  ...   \n",
       "\n",
       "    num_male_coreference_tokens num_female_coreference_tokens  \\\n",
       "115                           0                             0   \n",
       "292                           0                             0   \n",
       "436                           4                             0   \n",
       "13                          151                             0   \n",
       "466                           5                             0   \n",
       "..                          ...                           ...   \n",
       "229                           0                             0   \n",
       "464                           0                             8   \n",
       "413                           0                             0   \n",
       "232                           0                             0   \n",
       "478                           0                             4   \n",
       "\n",
       "     num_non_binary_coreference_tokens  num_neo_coreference_tokens  \\\n",
       "115                                  0                           0   \n",
       "292                                  0                           0   \n",
       "436                                  0                           0   \n",
       "13                                   0                           0   \n",
       "466                                  0                           0   \n",
       "..                                 ...                         ...   \n",
       "229                                  0                           0   \n",
       "464                                  0                           0   \n",
       "413                                  0                           0   \n",
       "232                                  0                           0   \n",
       "478                                  0                           0   \n",
       "\n",
       "     sum_coreference_pronouns  pct_male_coreference_pronouns  \\\n",
       "115                         0                            NaN   \n",
       "292                         0                            NaN   \n",
       "436                         4                            1.0   \n",
       "13                        151                            1.0   \n",
       "466                         5                            1.0   \n",
       "..                        ...                            ...   \n",
       "229                         0                            NaN   \n",
       "464                         8                            0.0   \n",
       "413                         0                            NaN   \n",
       "232                         0                            NaN   \n",
       "478                         4                            0.0   \n",
       "\n",
       "     pct_female_coreference_pronouns  pct_non_binary_coreference_pronouns  \\\n",
       "115                              NaN                                  NaN   \n",
       "292                              NaN                                  NaN   \n",
       "436                              0.0                                  0.0   \n",
       "13                               0.0                                  0.0   \n",
       "466                              0.0                                  0.0   \n",
       "..                               ...                                  ...   \n",
       "229                              NaN                                  NaN   \n",
       "464                              1.0                                  0.0   \n",
       "413                              NaN                                  NaN   \n",
       "232                              NaN                                  NaN   \n",
       "478                              1.0                                  0.0   \n",
       "\n",
       "    pct_neo_coreference_pronouns  max_pronoun_column  \n",
       "115                          NaN                male  \n",
       "292                          NaN                male  \n",
       "436                          0.0                male  \n",
       "13                           0.0                male  \n",
       "466                          0.0                male  \n",
       "..                           ...                 ...  \n",
       "229                          NaN              female  \n",
       "464                          0.0              female  \n",
       "413                          NaN              female  \n",
       "232                          NaN              female  \n",
       "478                          0.0              female  \n",
       "\n",
       "[482 rows x 29 columns]"
      ]
     },
     "execution_count": 11,
     "metadata": {},
     "output_type": "execute_result"
    }
   ],
   "source": [
    "pronoun_data.sort_values('num_male_tokens', ascending=False)"
   ]
  },
  {
   "cell_type": "code",
   "execution_count": 12,
   "metadata": {},
   "outputs": [
    {
     "name": "stderr",
     "output_type": "stream",
     "text": [
      "/Library/Frameworks/Python.framework/Versions/3.7/lib/python3.7/site-packages/seaborn/_decorators.py:43: FutureWarning: Pass the following variable as a keyword arg: x. From version 0.12, the only valid positional argument will be `data`, and passing other arguments without an explicit keyword will result in an error or misinterpretation.\n",
      "  FutureWarning\n"
     ]
    },
    {
     "data": {
      "text/plain": [
       "<AxesSubplot:xlabel='num_female_tokens'>"
      ]
     },
     "execution_count": 12,
     "metadata": {},
     "output_type": "execute_result"
    },
    {
     "data": {
      "image/png": "[encoded data removed]",
      "text/plain": [
       "<Figure size 432x288 with 1 Axes>"
      ]
     },
     "metadata": {
      "needs_background": "light"
     },
     "output_type": "display_data"
    }
   ],
   "source": [
    "sns.boxplot(pronoun_data[pronoun_data['max_pronoun_column']==\"female\"]['num_female_tokens'])"
   ]
  },
  {
   "cell_type": "code",
   "execution_count": 13,
   "metadata": {},
   "outputs": [],
   "source": [
    "s3_writer = boto3.client('s3',\n",
    "                    region_name='us-east-1',\n",
    "                    aws_access_key_id=cfg.aws_writer['accessCode'],\n",
    "                    aws_secret_access_key=cfg.aws_writer['secretCode'])"
   ]
  },
  {
   "cell_type": "code",
   "execution_count": 14,
   "metadata": {},
   "outputs": [
    {
     "data": {
      "text/plain": [
       "{'ResponseMetadata': {'RequestId': 'HNP0QMNGNTSWETAG',\n",
       "  'HostId': 'V2gxzDjp98dFHPUpG1RD2v4XDbn1slhWpXdfBNoojwSoPSWUjozdQAgoZaJjkS4HWYttCp++oGw=',\n",
       "  'HTTPStatusCode': 200,\n",
       "  'HTTPHeaders': {'x-amz-id-2': 'V2gxzDjp98dFHPUpG1RD2v4XDbn1slhWpXdfBNoojwSoPSWUjozdQAgoZaJjkS4HWYttCp++oGw=',\n",
       "   'x-amz-request-id': 'HNP0QMNGNTSWETAG',\n",
       "   'date': 'Sat, 24 Jun 2023 23:39:10 GMT',\n",
       "   'x-amz-server-side-encryption': 'AES256',\n",
       "   'etag': '\"035e816beaab884ffaa93153f4213a4e\"',\n",
       "   'server': 'AmazonS3',\n",
       "   'content-length': '0'},\n",
       "  'RetryAttempts': 0},\n",
       " 'ETag': '\"035e816beaab884ffaa93153f4213a4e\"',\n",
       " 'ServerSideEncryption': 'AES256'}"
      ]
     },
     "execution_count": 14,
     "metadata": {},
     "output_type": "execute_result"
    }
   ],
   "source": [
    "out_buffer = io.BytesIO()\n",
    "pronoun_data[['article_id', 'file_name', 'scraped_path',\n",
    "              'num_male_tokens', 'num_female_tokens',\n",
    "       'num_non_binary_tokens', 'num_neo_tokens',\n",
    "              'max_pronoun_column']].to_parquet(out_buffer, index=False)\n",
    "s3_writer.put_object( Bucket=config_files['INTEREDIARY_OUTPUT_BUCKET'], \n",
    "                     Key=config_files['INFERRED_GENDER_BY_PRONOUN_COUNT'], \n",
    "                     Body=out_buffer.getvalue())"
   ]
  },
  {
   "cell_type": "markdown",
   "metadata": {},
   "source": [
    "## Infer gender based on most common coreferenced token"
   ]
  },
  {
   "cell_type": "code",
   "execution_count": 15,
   "metadata": {},
   "outputs": [],
   "source": [
    "coroeference_data = pronoun_data[pronoun_data['sum_coreference_pronouns']>0]"
   ]
  },
  {
   "cell_type": "code",
   "execution_count": 16,
   "metadata": {},
   "outputs": [
    {
     "name": "stderr",
     "output_type": "stream",
     "text": [
      "/Library/Frameworks/Python.framework/Versions/3.7/lib/python3.7/site-packages/ipykernel_launcher.py:4: SettingWithCopyWarning: \n",
      "A value is trying to be set on a copy of a slice from a DataFrame.\n",
      "Try using .loc[row_indexer,col_indexer] = value instead\n",
      "\n",
      "See the caveats in the documentation: https://pandas.pydata.org/pandas-docs/stable/user_guide/indexing.html#returning-a-view-versus-a-copy\n",
      "  after removing the cwd from sys.path.\n",
      "/Library/Frameworks/Python.framework/Versions/3.7/lib/python3.7/site-packages/ipykernel_launcher.py:5: SettingWithCopyWarning: \n",
      "A value is trying to be set on a copy of a slice from a DataFrame.\n",
      "Try using .loc[row_indexer,col_indexer] = value instead\n",
      "\n",
      "See the caveats in the documentation: https://pandas.pydata.org/pandas-docs/stable/user_guide/indexing.html#returning-a-view-versus-a-copy\n",
      "  \"\"\"\n"
     ]
    }
   ],
   "source": [
    "max_coref_pronoun_col = coroeference_data[[ 'num_male_coreference_tokens',\n",
    "       'num_female_coreference_tokens', 'num_non_binary_coreference_tokens',\n",
    "       'num_neo_coreference_tokens']].idxmax(axis=1)\n",
    "coroeference_data['max_coref_pronoun_column'] = max_coref_pronoun_col\n",
    "coroeference_data['max_coref_pronoun_column'] = coroeference_data['max_coref_pronoun_column'].apply(lambda x:\n",
    "                                                                              x.replace(\"num_\", \"\").replace(\"coreference_tokens_\", \"\") )"
   ]
  },
  {
   "cell_type": "code",
   "execution_count": 17,
   "metadata": {},
   "outputs": [
    {
     "data": {
      "text/plain": [
       "male_coreference_tokens          119\n",
       "female_coreference_tokens         47\n",
       "non_binary_coreference_tokens      1\n",
       "Name: max_coref_pronoun_column, dtype: int64"
      ]
     },
     "execution_count": 17,
     "metadata": {},
     "output_type": "execute_result"
    }
   ],
   "source": [
    "coroeference_data['max_coref_pronoun_column'].value_counts()"
   ]
  },
  {
   "cell_type": "code",
   "execution_count": 18,
   "metadata": {},
   "outputs": [
    {
     "data": {
      "text/plain": [
       "{'ResponseMetadata': {'RequestId': 'HNP3GZMB0MDX75BX',\n",
       "  'HostId': '810pSEjVrKXfVnBNk2DryidQx2dqMjGMWz6wuJ/rgxdBdllkIYW2b3aZfMmq66S819GzGVRLpck=',\n",
       "  'HTTPStatusCode': 200,\n",
       "  'HTTPHeaders': {'x-amz-id-2': '810pSEjVrKXfVnBNk2DryidQx2dqMjGMWz6wuJ/rgxdBdllkIYW2b3aZfMmq66S819GzGVRLpck=',\n",
       "   'x-amz-request-id': 'HNP3GZMB0MDX75BX',\n",
       "   'date': 'Sat, 24 Jun 2023 23:39:10 GMT',\n",
       "   'x-amz-server-side-encryption': 'AES256',\n",
       "   'etag': '\"46fc7c745c9c9fd6517d148df491a48f\"',\n",
       "   'server': 'AmazonS3',\n",
       "   'content-length': '0'},\n",
       "  'RetryAttempts': 0},\n",
       " 'ETag': '\"46fc7c745c9c9fd6517d148df491a48f\"',\n",
       " 'ServerSideEncryption': 'AES256'}"
      ]
     },
     "execution_count": 18,
     "metadata": {},
     "output_type": "execute_result"
    }
   ],
   "source": [
    "out_buffer = io.BytesIO()\n",
    "coroeference_data[['article_id', 'file_name', 'scraped_path',\n",
    "        'num_male_coreference_tokens',\n",
    "       'num_female_coreference_tokens', 'num_non_binary_coreference_tokens',\n",
    "       'num_neo_coreference_tokens',\n",
    "              'max_coref_pronoun_column']].to_parquet(out_buffer, index=False)\n",
    "s3_writer.put_object( Bucket=config_files['INTEREDIARY_OUTPUT_BUCKET'], \n",
    "                     Key=config_files['INFERRED_GENDER_BY_COREFERENCE_PRONOUN_COUNT'], \n",
    "                     Body=out_buffer.getvalue())"
   ]
  },
  {
   "cell_type": "code",
   "execution_count": null,
   "metadata": {},
   "outputs": [],
   "source": []
  }
 ],
 "metadata": {
  "kernelspec": {
   "display_name": "Python 3",
   "language": "python",
   "name": "python3"
  },
  "language_info": {
   "codemirror_mode": {
    "name": "ipython",
    "version": 3
   },
   "file_extension": ".py",
   "mimetype": "text/x-python",
   "name": "python",
   "nbconvert_exporter": "python",
   "pygments_lexer": "ipython3",
   "version": "3.7.8"
  }
 },
 "nbformat": 4,
 "nbformat_minor": 4
}
