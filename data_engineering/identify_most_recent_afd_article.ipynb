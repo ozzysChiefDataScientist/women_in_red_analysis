{
 "cells": [
  {
   "cell_type": "code",
   "execution_count": 25,
   "metadata": {},
   "outputs": [],
   "source": [
    "import awswrangler as wr\n",
    "from bs4 import BeautifulSoup\n",
    "import boto3\n",
    "import config as cfg\n",
    "import datetime\n",
    "import io\n",
    "import numpy as np\n",
    "import pandas as pd\n",
    "import re\n",
    "import spacy"
   ]
  },
  {
   "cell_type": "code",
   "execution_count": 2,
   "metadata": {},
   "outputs": [],
   "source": [
    "%run \"../libraries/aws_utils.ipynb\""
   ]
  },
  {
   "cell_type": "code",
   "execution_count": 74,
   "metadata": {},
   "outputs": [],
   "source": [
    "INPUT_BUCKET = 'afd-scraped'\n",
    "PREFIX = \"individual_afd_page_html/2023\"\n",
    "OUTPUT_BUCKET = 'women-in-red-intermediary'\n",
    "OUTPUT_FILE = 'afd_article_scrape_dates.parquet'"
   ]
  },
  {
   "cell_type": "code",
   "execution_count": 4,
   "metadata": {},
   "outputs": [],
   "source": [
    "nlp = spacy.load(\"en_core_web_sm\")"
   ]
  },
  {
   "cell_type": "code",
   "execution_count": 5,
   "metadata": {},
   "outputs": [],
   "source": [
    "s3 = boto3.resource('s3',\n",
    "                    region_name='us-east-1',\n",
    "                    aws_access_key_id=cfg.aws_reader['accessCode'],\n",
    "                    aws_secret_access_key=cfg.aws_reader['secretCode'])"
   ]
  },
  {
   "cell_type": "markdown",
   "metadata": {},
   "source": [
    "## Compile list of scraped articles"
   ]
  },
  {
   "cell_type": "code",
   "execution_count": 6,
   "metadata": {},
   "outputs": [],
   "source": [
    "objects = get_list_of_s3_files(s3, INPUT_BUCKET, PREFIX)"
   ]
  },
  {
   "cell_type": "code",
   "execution_count": 45,
   "metadata": {},
   "outputs": [],
   "source": [
    "objects_pd = pd.DataFrame({\"file_name\": objects})\n",
    "objects_pd['scrape_date'] = objects_pd['file_name'].apply(lambda x: pd.to_datetime(x.split(\"/\")[1]))\n",
    "objects_pd['article_id'] = objects_pd['file_name'].apply(lambda x: x.split(\"/\")[2].replace(\".txt\",\"\"))"
   ]
  },
  {
   "cell_type": "code",
   "execution_count": 46,
   "metadata": {},
   "outputs": [
    {
     "data": {
      "text/plain": [
       "(21330, 3)"
      ]
     },
     "execution_count": 46,
     "metadata": {},
     "output_type": "execute_result"
    }
   ],
   "source": [
    "objects_pd.shape"
   ]
  },
  {
   "cell_type": "markdown",
   "metadata": {},
   "source": [
    "## Get list of scraped dates for each article"
   ]
  },
  {
   "cell_type": "code",
   "execution_count": 47,
   "metadata": {},
   "outputs": [],
   "source": [
    "scrape_dates_by_article = objects_pd.groupby('article_id')['scrape_date'].apply(list).reset_index()\n",
    "scrape_dates_by_article['scrape_date'] = scrape_dates_by_article['scrape_date'].apply(lambda x: sorted(x))"
   ]
  },
  {
   "cell_type": "code",
   "execution_count": 48,
   "metadata": {},
   "outputs": [
    {
     "data": {
      "text/html": [
       "<div>\n",
       "<style scoped>\n",
       "    .dataframe tbody tr th:only-of-type {\n",
       "        vertical-align: middle;\n",
       "    }\n",
       "\n",
       "    .dataframe tbody tr th {\n",
       "        vertical-align: top;\n",
       "    }\n",
       "\n",
       "    .dataframe thead th {\n",
       "        text-align: right;\n",
       "    }\n",
       "</style>\n",
       "<table border=\"1\" class=\"dataframe\">\n",
       "  <thead>\n",
       "    <tr style=\"text-align: right;\">\n",
       "      <th></th>\n",
       "      <th>article_id</th>\n",
       "      <th>scrape_date</th>\n",
       "    </tr>\n",
       "  </thead>\n",
       "  <tbody>\n",
       "    <tr>\n",
       "      <th>0</th>\n",
       "      <td>\"Marvel_vs._DC\"_cards</td>\n",
       "      <td>[2023-04-30 00:00:00]</td>\n",
       "    </tr>\n",
       "    <tr>\n",
       "      <th>1</th>\n",
       "      <td>$teven_Cannon</td>\n",
       "      <td>[2023-02-22 00:00:00, 2023-02-23 00:00:00, 202...</td>\n",
       "    </tr>\n",
       "    <tr>\n",
       "      <th>2</th>\n",
       "      <td>-_(album)</td>\n",
       "      <td>[2023-03-02 00:00:00, 2023-03-03 00:00:00, 202...</td>\n",
       "    </tr>\n",
       "    <tr>\n",
       "      <th>3</th>\n",
       "      <td>100_Days_Campaign</td>\n",
       "      <td>[2023-03-08 00:00:00]</td>\n",
       "    </tr>\n",
       "    <tr>\n",
       "      <th>4</th>\n",
       "      <td>15.ai</td>\n",
       "      <td>[2023-01-16 00:00:00]</td>\n",
       "    </tr>\n",
       "  </tbody>\n",
       "</table>\n",
       "</div>"
      ],
      "text/plain": [
       "              article_id                                        scrape_date\n",
       "0  \"Marvel_vs._DC\"_cards                              [2023-04-30 00:00:00]\n",
       "1          $teven_Cannon  [2023-02-22 00:00:00, 2023-02-23 00:00:00, 202...\n",
       "2              -_(album)  [2023-03-02 00:00:00, 2023-03-03 00:00:00, 202...\n",
       "3      100_Days_Campaign                              [2023-03-08 00:00:00]\n",
       "4                  15.ai                              [2023-01-16 00:00:00]"
      ]
     },
     "execution_count": 48,
     "metadata": {},
     "output_type": "execute_result"
    }
   ],
   "source": [
    "scrape_dates_by_article[0:5]"
   ]
  },
  {
   "cell_type": "markdown",
   "metadata": {},
   "source": [
    "## Write output"
   ]
  },
  {
   "cell_type": "code",
   "execution_count": 75,
   "metadata": {},
   "outputs": [],
   "source": [
    "s3_writer = boto3.client('s3',\n",
    "                    region_name='us-east-1',\n",
    "                    aws_access_key_id=cfg.aws_writer['accessCode'],\n",
    "                    aws_secret_access_key=cfg.aws_writer['secretCode'])"
   ]
  },
  {
   "cell_type": "code",
   "execution_count": 86,
   "metadata": {},
   "outputs": [],
   "source": [
    "out_buffer = io.BytesIO()\n",
    "scrape_dates_by_article.to_parquet(out_buffer, index=False)"
   ]
  },
  {
   "cell_type": "code",
   "execution_count": 88,
   "metadata": {},
   "outputs": [
    {
     "data": {
      "text/plain": [
       "{'ResponseMetadata': {'RequestId': 'Z9WA60C5VZQDZEKT',\n",
       "  'HostId': 'LzbcUukUHquaaRiuObxqT7dv7mSrjIwi356EpNmA1NmH1xM6wiQYQ+AId/poU/Hdo3aqmtocOng=',\n",
       "  'HTTPStatusCode': 200,\n",
       "  'HTTPHeaders': {'x-amz-id-2': 'LzbcUukUHquaaRiuObxqT7dv7mSrjIwi356EpNmA1NmH1xM6wiQYQ+AId/poU/Hdo3aqmtocOng=',\n",
       "   'x-amz-request-id': 'Z9WA60C5VZQDZEKT',\n",
       "   'date': 'Sat, 27 May 2023 14:14:24 GMT',\n",
       "   'x-amz-server-side-encryption': 'AES256',\n",
       "   'etag': '\"c5d6a70383e811262d9091cdbf6c54cb\"',\n",
       "   'server': 'AmazonS3',\n",
       "   'content-length': '0'},\n",
       "  'RetryAttempts': 0},\n",
       " 'ETag': '\"c5d6a70383e811262d9091cdbf6c54cb\"',\n",
       " 'ServerSideEncryption': 'AES256'}"
      ]
     },
     "execution_count": 88,
     "metadata": {},
     "output_type": "execute_result"
    }
   ],
   "source": [
    "s3_writer.put_object( Bucket=OUTPUT_BUCKET, Key=OUTPUT_FILE, Body=out_buffer.getvalue())"
   ]
  },
  {
   "cell_type": "code",
   "execution_count": 90,
   "metadata": {},
   "outputs": [],
   "source": []
  },
  {
   "cell_type": "code",
   "execution_count": 91,
   "metadata": {},
   "outputs": [
    {
     "data": {
      "text/html": [
       "<div>\n",
       "<style scoped>\n",
       "    .dataframe tbody tr th:only-of-type {\n",
       "        vertical-align: middle;\n",
       "    }\n",
       "\n",
       "    .dataframe tbody tr th {\n",
       "        vertical-align: top;\n",
       "    }\n",
       "\n",
       "    .dataframe thead th {\n",
       "        text-align: right;\n",
       "    }\n",
       "</style>\n",
       "<table border=\"1\" class=\"dataframe\">\n",
       "  <thead>\n",
       "    <tr style=\"text-align: right;\">\n",
       "      <th></th>\n",
       "      <th>article_id</th>\n",
       "      <th>scrape_date</th>\n",
       "    </tr>\n",
       "  </thead>\n",
       "  <tbody>\n",
       "    <tr>\n",
       "      <th>0</th>\n",
       "      <td>\"Marvel_vs._DC\"_cards</td>\n",
       "      <td>[2023-04-30T00:00:00.000000]</td>\n",
       "    </tr>\n",
       "    <tr>\n",
       "      <th>1</th>\n",
       "      <td>$teven_Cannon</td>\n",
       "      <td>[2023-02-22T00:00:00.000000, 2023-02-23T00:00:...</td>\n",
       "    </tr>\n",
       "    <tr>\n",
       "      <th>2</th>\n",
       "      <td>-_(album)</td>\n",
       "      <td>[2023-03-02T00:00:00.000000, 2023-03-03T00:00:...</td>\n",
       "    </tr>\n",
       "    <tr>\n",
       "      <th>3</th>\n",
       "      <td>100_Days_Campaign</td>\n",
       "      <td>[2023-03-08T00:00:00.000000]</td>\n",
       "    </tr>\n",
       "    <tr>\n",
       "      <th>4</th>\n",
       "      <td>15.ai</td>\n",
       "      <td>[2023-01-16T00:00:00.000000]</td>\n",
       "    </tr>\n",
       "    <tr>\n",
       "      <th>...</th>\n",
       "      <td>...</td>\n",
       "      <td>...</td>\n",
       "    </tr>\n",
       "    <tr>\n",
       "      <th>3867</th>\n",
       "      <td>Ángel_Gaspar</td>\n",
       "      <td>[2023-03-05T00:00:00.000000]</td>\n",
       "    </tr>\n",
       "    <tr>\n",
       "      <th>3868</th>\n",
       "      <td>École_Française_Internationale_de_Djeddah</td>\n",
       "      <td>[2023-01-12T00:00:00.000000, 2023-01-13T00:00:...</td>\n",
       "    </tr>\n",
       "    <tr>\n",
       "      <th>3869</th>\n",
       "      <td>École_Française_Internationale_de_Riyad</td>\n",
       "      <td>[2023-01-16T00:00:00.000000, 2023-01-17T00:00:...</td>\n",
       "    </tr>\n",
       "    <tr>\n",
       "      <th>3870</th>\n",
       "      <td>Ömer_Aysan_Barış</td>\n",
       "      <td>[2023-05-03T00:00:00.000000]</td>\n",
       "    </tr>\n",
       "    <tr>\n",
       "      <th>3871</th>\n",
       "      <td>Đorđe_Milojević</td>\n",
       "      <td>[2023-01-11T00:00:00.000000, 2023-01-12T00:00:...</td>\n",
       "    </tr>\n",
       "  </tbody>\n",
       "</table>\n",
       "<p>3872 rows × 2 columns</p>\n",
       "</div>"
      ],
      "text/plain": [
       "                                     article_id  \\\n",
       "0                         \"Marvel_vs._DC\"_cards   \n",
       "1                                 $teven_Cannon   \n",
       "2                                     -_(album)   \n",
       "3                             100_Days_Campaign   \n",
       "4                                         15.ai   \n",
       "...                                         ...   \n",
       "3867                               Ángel_Gaspar   \n",
       "3868  École_Française_Internationale_de_Djeddah   \n",
       "3869    École_Française_Internationale_de_Riyad   \n",
       "3870                           Ömer_Aysan_Barış   \n",
       "3871                            Đorđe_Milojević   \n",
       "\n",
       "                                            scrape_date  \n",
       "0                          [2023-04-30T00:00:00.000000]  \n",
       "1     [2023-02-22T00:00:00.000000, 2023-02-23T00:00:...  \n",
       "2     [2023-03-02T00:00:00.000000, 2023-03-03T00:00:...  \n",
       "3                          [2023-03-08T00:00:00.000000]  \n",
       "4                          [2023-01-16T00:00:00.000000]  \n",
       "...                                                 ...  \n",
       "3867                       [2023-03-05T00:00:00.000000]  \n",
       "3868  [2023-01-12T00:00:00.000000, 2023-01-13T00:00:...  \n",
       "3869  [2023-01-16T00:00:00.000000, 2023-01-17T00:00:...  \n",
       "3870                       [2023-05-03T00:00:00.000000]  \n",
       "3871  [2023-01-11T00:00:00.000000, 2023-01-12T00:00:...  \n",
       "\n",
       "[3872 rows x 2 columns]"
      ]
     },
     "execution_count": 91,
     "metadata": {},
     "output_type": "execute_result"
    }
   ],
   "source": [
    "df"
   ]
  },
  {
   "cell_type": "markdown",
   "metadata": {},
   "source": [
    "## For each article, check if we have full text or if article was already deleted"
   ]
  },
  {
   "cell_type": "code",
   "execution_count": null,
   "metadata": {},
   "outputs": [],
   "source": []
  },
  {
   "cell_type": "code",
   "execution_count": 15,
   "metadata": {},
   "outputs": [],
   "source": [
    "def check_if_article_is_deleted(file_text):\n",
    "    ARTICLE_DELETED_STRING = 'Wikipedia does not have an article with this exact name'\n",
    "    if ARTICLE_DELETED_STRING in file:\n",
    "        return 'deleted'\n",
    "    else:\n",
    "        return 'kept'"
   ]
  },
  {
   "cell_type": "code",
   "execution_count": 16,
   "metadata": {},
   "outputs": [],
   "source": [
    "for file_name in objects_pd['file_name'].values[0:5]:\n",
    "    file = read_s3_file(s3, INPUT_BUCKET, file_name)\n",
    "    outcome = check_if_article_is_deleted(file)"
   ]
  },
  {
   "cell_type": "code",
   "execution_count": 17,
   "metadata": {},
   "outputs": [
    {
     "data": {
      "text/plain": [
       "'deleted'"
      ]
     },
     "execution_count": 17,
     "metadata": {},
     "output_type": "execute_result"
    }
   ],
   "source": [
    "o'a'].apply(lambda x: x + 1)"
   ]
  },
  {
   "cell_type": "code",
   "execution_count": null,
   "metadata": {},
   "outputs": [],
   "source": []
  }
 ],
 "metadata": {
  "kernelspec": {
   "display_name": "Python 3",
   "language": "python",
   "name": "python3"
  },
  "language_info": {
   "codemirror_mode": {
    "name": "ipython",
    "version": 3
   },
   "file_extension": ".py",
   "mimetype": "text/x-python",
   "name": "python",
   "nbconvert_exporter": "python",
   "pygments_lexer": "ipython3",
   "version": "3.7.8"
  }
 },
 "nbformat": 4,
 "nbformat_minor": 4
}
