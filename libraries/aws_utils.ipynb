{
 "cells": [
  {
   "cell_type": "code",
   "execution_count": null,
   "metadata": {},
   "outputs": [],
   "source": [
    "import pyarrow.parquet as pq"
   ]
  },
  {
   "cell_type": "code",
   "execution_count": 2,
   "metadata": {},
   "outputs": [],
   "source": [
    "def get_list_of_s3_files(s3_resource, BUCKET, PREFIX):\n",
    "    \"\"\"\n",
    "    This function takes in the name of an Amazon S3 bucket and a prefix for an S3 key \n",
    "    and returns a list of S3 object keys that match the given prefix.\n",
    "\n",
    "    :param s3_resource: A boto s3 object\n",
    "    :type s3_resource: boto3.resources.factory.s3.ServiceResource\n",
    "    :param BUCKET: A string representing the name of an S3 bucket\n",
    "    :type BUCKET: str\n",
    "    :param PREFIX: A string representing the prefix to search for in the S3 objects' keys\n",
    "    :type PREFIX: str\n",
    "\n",
    "    :return: A list of S3 object keys that match the given prefix\n",
    "    :rtype: list[str]\n",
    "    \n",
    "    Example Usage:\n",
    "    >>> s3_files = get_list_of_s3_files('my-s3-bucket', 'path/to/my/files/')\n",
    "    >>> print(s3_files)\n",
    "    ['path/to/my/files/file1.txt', 'path/to/my/files/file2.txt', 'path/to/my/files/file3.txt']\n",
    "    \"\"\"\n",
    "    bucket = s3_resource.Bucket(BUCKET)\n",
    "    objects = bucket.objects.filter(Prefix=PREFIX)\n",
    "    return [obj.key for obj in objects]"
   ]
  },
  {
   "cell_type": "code",
   "execution_count": null,
   "metadata": {},
   "outputs": [],
   "source": [
    "def read_s3_file(s3_resource, bucket_name, file_key):\n",
    "    \"\"\"\n",
    "    Reads the contents of a file stored on S3.\n",
    "\n",
    "    :param s3_resource: A boto s3 object\n",
    "    :type s3_resource: boto3.resources.factory.s3.ServiceResource\n",
    "    :param bucket_name: The name of the S3 bucket.\n",
    "    :type bucket_name: str\n",
    "    :param file_key: The unique key of the file in the S3 bucket.\n",
    "    :type file_key: str\n",
    "    :return: The contents of the file as a string.\n",
    "    :rtype: str\n",
    "    \"\"\"\n",
    "    s3_object = s3_resource.Object(bucket_name, file_key)\n",
    "    object_content = s3_object.get()['Body'].read().decode('utf-8')\n",
    "    return object_content"
   ]
  },
  {
   "cell_type": "code",
   "execution_count": null,
   "metadata": {},
   "outputs": [],
   "source": [
    "def read_parquet_file(s3_reader, bucket_name, file_key):\n",
    "    \"\"\"\n",
    "    Reads a Parquet file from an Amazon S3 bucket and returns the data as a Pandas DataFrame.\n",
    "\n",
    "    Parameters:\n",
    "        s3_reader (boto3.resources.factory.s3.ServiceResource): An instance of `boto3.resource('s3')` used for S3 operations.\n",
    "        bucket_name (str): The name of the S3 bucket where the Parquet file is located.\n",
    "        file_key (str): The key (path) of the Parquet file within the S3 bucket.\n",
    "\n",
    "    Returns:\n",
    "        pandas.core.frame.DataFrame: A Pandas DataFrame containing the data from the Parquet file.\n",
    "\n",
    "    Raises:\n",
    "        botocore.exceptions.NoCredentialsError: If the AWS credentials are not configured or missing.\n",
    "        botocore.exceptions.ParamValidationError: If the provided bucket name or file key is invalid.\n",
    "        botocore.exceptions.EndpointConnectionError: If there is an issue connecting to the S3 endpoint.\n",
    "        pyarrow.lib.ArrowIOError: If there is an error reading the Parquet file.\n",
    "\n",
    "    Example Usage:\n",
    "        import boto3\n",
    "        import pyarrow.parquet as pq\n",
    "\n",
    "        # Create an S3 resource\n",
    "        s3_resource = boto3.resource('s3')\n",
    "\n",
    "        # Read a Parquet file from S3\n",
    "        bucket_name = 'my-bucket'\n",
    "        file_key = 'path/to/parquet/file.parquet'\n",
    "        parquet_data = read_parquet_file(s3_resource, bucket_name, file_key)\n",
    "        print(parquet_data.head())\n",
    "    \"\"\"\n",
    "    s3_object = s3_reader.Object(bucket_name, file_key)\n",
    "    s3_object.download_fileobj(buffer)\n",
    "    table = pq.read_table(buffer)\n",
    "    parquet_df = table.to_pandas()\n",
    "    return parquet_df\n"
   ]
  }
 ],
 "metadata": {
  "kernelspec": {
   "display_name": "Python 3",
   "language": "python",
   "name": "python3"
  },
  "language_info": {
   "codemirror_mode": {
    "name": "ipython",
    "version": 3
   },
   "file_extension": ".py",
   "mimetype": "text/x-python",
   "name": "python",
   "nbconvert_exporter": "python",
   "pygments_lexer": "ipython3",
   "version": "3.7.8"
  }
 },
 "nbformat": 4,
 "nbformat_minor": 4
}
