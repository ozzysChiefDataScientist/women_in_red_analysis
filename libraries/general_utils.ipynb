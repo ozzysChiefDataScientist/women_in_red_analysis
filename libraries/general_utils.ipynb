{
 "cells": [
  {
   "cell_type": "code",
   "execution_count": null,
   "metadata": {},
   "outputs": [],
   "source": [
    "def test_primary_key(df, primary_key_col):\n",
    "    \"\"\"\n",
    "    Checks if a specified column or set of columns constitutes a primary key for a given pandas dataframe. \n",
    "\n",
    "    :param df: Pandas dataframe to be checked for a primary key.\n",
    "    :type df: pandas.DataFrame\n",
    "    :param primary_key_col: Name or list of names of column(s) to be checked for being a primary key.\n",
    "    :type primary_key_col: str or list[str]\n",
    "    :raises AssertionError: If the specified column or set of columns is not a primary key for the given dataframe.\n",
    "    :return: None\n",
    "\n",
    "    Example Usage:\n",
    "    >>> import pandas as pd\n",
    "    >>> data = {'Name': ['John', 'Alex', 'Mike', 'John'], 'Age': [24, 26, 27, 24], 'Gender': ['M', 'M', 'M', 'M']}\n",
    "    >>> df = pd.DataFrame(data)\n",
    "    >>> test_primary_key(df, 'Name')\n",
    "    AssertionError: Name is not the primary key\n",
    "    \"\"\"\n",
    "    try:\n",
    "        assert any(df[primary_key_col].duplicated())==False \n",
    "    except:\n",
    "        raise AssertionError(f'{primary_key_col} is not the primary key')\n"
   ]
  }
 ],
 "metadata": {
  "kernelspec": {
   "display_name": "Python 3",
   "language": "python",
   "name": "python3"
  },
  "language_info": {
   "codemirror_mode": {
    "name": "ipython",
    "version": 3
   },
   "file_extension": ".py",
   "mimetype": "text/x-python",
   "name": "python",
   "nbconvert_exporter": "python",
   "pygments_lexer": "ipython3",
   "version": "3.7.8"
  }
 },
 "nbformat": 4,
 "nbformat_minor": 4
}
